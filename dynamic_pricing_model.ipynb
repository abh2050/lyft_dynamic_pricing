{
 "cells": [
  {
   "cell_type": "code",
   "execution_count": 2,
   "metadata": {},
   "outputs": [
    {
     "name": "stdout",
     "output_type": "stream",
     "text": [
      "Linear Regression RMSE: 5.499938665302406\n",
      "Coefficients:\n",
      " [('trip_distance', 3.34003914181955), ('pickup_day_of_week', 1.1565627113032044), ('pickup_hour', 0.046222274014956044), ('is_peak_hour', -0.5061220958869775)]\n",
      "Intercept: 3.092750109411128\n"
     ]
    },
    {
     "name": "stderr",
     "output_type": "stream",
     "text": [
      "/Users/abhishekshah/opt/anaconda3/envs/tf/lib/python3.10/site-packages/sklearn/utils/validation.py:623: FutureWarning: is_sparse is deprecated and will be removed in a future version. Check `isinstance(dtype, pd.SparseDtype)` instead.\n",
      "  if not hasattr(array, \"sparse\") and array.dtypes.apply(is_sparse).any():\n",
      "/Users/abhishekshah/opt/anaconda3/envs/tf/lib/python3.10/site-packages/sklearn/utils/validation.py:623: FutureWarning: is_sparse is deprecated and will be removed in a future version. Check `isinstance(dtype, pd.SparseDtype)` instead.\n",
      "  if not hasattr(array, \"sparse\") and array.dtypes.apply(is_sparse).any():\n"
     ]
    }
   ],
   "source": [
    "from sklearn.model_selection import train_test_split\n",
    "from sklearn.linear_model import LinearRegression\n",
    "from sklearn.metrics import mean_squared_error\n",
    "from math import sqrt\n",
    "import pandas as pd\n",
    "from tqdm.notebook import tqdm\n",
    "\n",
    "# Load the data\n",
    "lyft_data = pd.read_csv('lyft_data.csv')\n",
    "\n",
    "# Convert pickup and dropoff times to datetime\n",
    "lyft_data['tpep_pickup_datetime'] = pd.to_datetime(lyft_data['tpep_pickup_datetime'])\n",
    "lyft_data['tpep_dropoff_datetime'] = pd.to_datetime(lyft_data['tpep_dropoff_datetime'])\n",
    "\n",
    "# Calculate trip duration in minutes\n",
    "lyft_data['trip_duration'] = (lyft_data['tpep_dropoff_datetime'] - lyft_data['tpep_pickup_datetime']).dt.total_seconds() / 60\n",
    "\n",
    "# Create features for day of the week and hour of the day\n",
    "lyft_data['pickup_day_of_week'] = lyft_data['tpep_pickup_datetime'].dt.dayofweek\n",
    "lyft_data['pickup_hour'] = lyft_data['tpep_pickup_datetime'].dt.hour\n",
    "\n",
    "# Identify peak hours (e.g., 7-9 AM and 4-7 PM on weekdays)\n",
    "lyft_data['is_peak_hour'] = ((lyft_data['pickup_hour'].between(7, 9) | lyft_data['pickup_hour'].between(16, 19)) & (lyft_data['pickup_day_of_week'] < 5)).astype(int)\n",
    "\n",
    "# Drop rows with negative or unusually long trip durations\n",
    "lyft_data = lyft_data[(lyft_data['trip_duration'] > 0) & (lyft_data['trip_duration'] <= 120)]\n",
    "\n",
    "# Prepare the dataset for the model\n",
    "X = lyft_data[['trip_distance', 'pickup_day_of_week', 'pickup_hour', 'is_peak_hour']]\n",
    "y = lyft_data['total_amount']\n",
    "\n",
    "# Split the data into training and testing sets\n",
    "X_train, X_test, y_train, y_test = train_test_split(X, y, test_size=0.2, random_state=42)\n",
    "\n",
    "# Initialize the Linear Regression model\n",
    "lr = LinearRegression()\n",
    "\n",
    "# Train the model\n",
    "lr.fit(X_train, y_train)\n",
    "\n",
    "# Predict on the test set\n",
    "y_pred = lr.predict(X_test)\n",
    "\n",
    "# Calculate RMSE\n",
    "rmse = sqrt(mean_squared_error(y_test, y_pred))\n",
    "\n",
    "# Output the RMSE\n",
    "print('Linear Regression RMSE:', rmse)\n",
    "\n",
    "# Coefficients\n",
    "coefficients = lr.coef_\n",
    "\n",
    "# Output coefficients\n",
    "print('Coefficients:\\n', list(zip(X.columns, coefficients)))\n",
    "\n",
    "# Intercept\n",
    "intercept = lr.intercept_\n",
    "\n",
    "# Output intercept\n",
    "print('Intercept:', intercept)"
   ]
  },
  {
   "cell_type": "markdown",
   "metadata": {},
   "source": [
    "#### The Linear Regression model has been trained to predict the cost of a Lyft trip based on trip distance, pickup day of the week, pickup hour, and whether it is peak hour. The model's performance is summarized by an RMSE of 5.4999.\n",
    "Here are the model's parameters:\n",
    "The coefficients for each feature are:\n",
    "Trip Distance: 3.3400\n",
    "Pickup Day of the Week: 1.1566\n",
    "Pickup Hour: 0.0462\n",
    "Is Peak Hour: -0.5061\n",
    "The intercept of the model is 3.0928.\n",
    "These parameters indicate how much each unit increase in the respective feature will affect the trip cost, holding other features constant. The negative coefficient for the peak hour suggests that, all else being equal, trips during peak hours are associated with a slightly lower cost, which may seem counterintuitive and could be an area for further investigation."
   ]
  },
  {
   "cell_type": "code",
   "execution_count": 3,
   "metadata": {},
   "outputs": [
    {
     "name": "stdout",
     "output_type": "stream",
     "text": [
      "Model saved as linear_regression_model.joblib\n"
     ]
    }
   ],
   "source": [
    "# Save the model to a file\n",
    "import joblib\n",
    "\n",
    "# Save the Linear Regression model to a file for later use in the Streamlit app\n",
    "joblib.dump(lr, 'linear_regression_model.joblib')\n",
    "\n",
    "print('Model saved as linear_regression_model.joblib')"
   ]
  },
  {
   "cell_type": "code",
   "execution_count": 4,
   "metadata": {},
   "outputs": [
    {
     "name": "stdout",
     "output_type": "stream",
     "text": [
      "Streamlit app script saved as streamlit_app.py\n"
     ]
    }
   ],
   "source": [
    "# Write the Streamlit app script\n",
    "app_code = \"\"\"\n",
    "import streamlit as st\n",
    "import joblib\n",
    "import numpy as np\n",
    "\n",
    "# Load the trained Linear Regression model\n",
    "model = joblib.load('linear_regression_model.joblib')\n",
    "\n",
    "# Define the Streamlit app\n",
    "st.title('Lyft Trip Cost Predictor')\n",
    "\n",
    "# Input fields\n",
    "trip_distance = st.number_input('Enter the trip distance (in miles):', min_value=0.0, format='%f')\n",
    "pickup_day_of_week = st.selectbox('Select the pickup day of the week:', options=['Monday', 'Tuesday', 'Wednesday', 'Thursday', 'Friday', 'Saturday', 'Sunday'], index=0)\n",
    "pickup_hour = st.slider('Select the pickup hour:', 0, 23, 0)\n",
    "is_peak_hour = st.checkbox('Is it peak hour?')\n",
    "\n",
    "# Convert inputs to model format\n",
    "pickup_day_of_week = ['Monday', 'Tuesday', 'Wednesday', 'Thursday', 'Friday', 'Saturday', 'Sunday'].index(pickup_day_of_week)\n",
    "is_peak_hour = int(is_peak_hour)\n",
    "\n",
    "# Predict button\n",
    "if st.button('Predict Cost'):\n",
    "    # Make prediction\n",
    "    features = np.array([[trip_distance, pickup_day_of_week, pickup_hour, is_peak_hour]])\n",
    "    prediction = model.predict(features)\n",
    "    \n",
    "    # Display the prediction\n",
    "    st.success(f'The estimated trip cost is: ${prediction[0]:.2f}')\n",
    "\"\"\"\n",
    "\n",
    "# Save the Streamlit app script to a file\n",
    "with open('streamlit_app.py', 'w') as file:\n",
    "    file.write(app_code)\n",
    "\n",
    "print('Streamlit app script saved as streamlit_app.py')"
   ]
  }
 ],
 "metadata": {
  "kernelspec": {
   "display_name": "tensor",
   "language": "python",
   "name": "python3"
  },
  "language_info": {
   "codemirror_mode": {
    "name": "ipython",
    "version": 3
   },
   "file_extension": ".py",
   "mimetype": "text/x-python",
   "name": "python",
   "nbconvert_exporter": "python",
   "pygments_lexer": "ipython3",
   "version": "3.10.13"
  }
 },
 "nbformat": 4,
 "nbformat_minor": 2
}
